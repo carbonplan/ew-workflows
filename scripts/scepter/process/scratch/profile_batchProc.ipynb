{
 "cells": [
  {
   "cell_type": "code",
   "execution_count": 1,
   "metadata": {},
   "outputs": [],
   "source": [
    "# -------------------------------------------------\n",
    "# \n",
    "# get batch results from profile data \n",
    "# \n",
    "# Uses the `postproc_profs` subdir to get the \n",
    "# soil profile inputs.\n",
    "# \n",
    "# -------------------------------------------------\n",
    "import fnmatch\n",
    "import glob\n",
    "import os\n",
    "import pickle\n",
    "import re\n",
    "from typing import Tuple\n",
    "\n",
    "import cmocean.cm as cmo\n",
    "import fsspec         # for AWS integration\n",
    "import s3fs\n",
    "from matplotlib.cm import ScalarMappable\n",
    "from matplotlib.colors import TwoSlopeNorm\n",
    "from matplotlib.colors import Normalize\n",
    "from matplotlib.lines import Line2D  # for custom legend entries (needed for contour plot)\n",
    "from matplotlib.gridspec import GridSpec\n",
    "import matplotlib.pyplot as plt\n",
    "import numpy as np\n",
    "import pandas as pd\n",
    "import xarray as xr\n",
    "\n",
    "import cdr_fxns_postproc as cfp"
   ]
  },
  {
   "cell_type": "markdown",
   "metadata": {},
   "source": [
    "## Calculation overview\n",
    "This script takes in a list of file names, merges all of the like files from each run in the batch, then saves each merged file."
   ]
  },
  {
   "cell_type": "markdown",
   "metadata": {},
   "source": [
    "### accepted file names (equivalent to files that could exist in the scepter output)\n",
    "\n",
    "\"adsorbed_percCEC\", \"adsorbed_ppm\", \"adsorbed\", \"aqueous_total\", \n",
    "\"aqueous\", \"bulksoil\", \"exchange_total\", \"gas\", \"rate\", \"soil_ph\", \n",
    "\"solid_sp_saturation\", \"solid_volumePercent\", \"solid_weightPercent\", \n",
    "\"solid\", \"specific_surface_area\", \"surface_area\""
   ]
  },
  {
   "cell_type": "code",
   "execution_count": 2,
   "metadata": {},
   "outputs": [],
   "source": [
    "# --- postproc profile file names:\n",
    "# \n",
    "# [\"adsorbed_percCEC\", \"adsorbed_ppm\", \"adsorbed\", \"aqueous_total\", \n",
    "#  \"aqueous\", \"bulksoil\", \"exchange_total\", \"gas\", \"rate\", \"soil_ph\", \n",
    "#  \"solid_sp_saturation\", \"solid_volumePercent\", \"solid_weightPercent\", \n",
    "#  \"solid\", \"specific_surface_area\", \"surface_area\"]\n",
    "# "
   ]
  },
  {
   "cell_type": "markdown",
   "metadata": {},
   "source": [
    "### make a dictionary denoting which files to run"
   ]
  },
  {
   "cell_type": "code",
   "execution_count": 3,
   "metadata": {},
   "outputs": [],
   "source": [
    "proc_dict = {\n",
    "    \"adsorbed\": False,\n",
    "    \"adsorbed_percCEC\": True,\n",
    "    \"adsorbed_ppm\": False,\n",
    "    \"aqueous\": True,\n",
    "    \"aqueous_total\": False,\n",
    "    \"bulksoil\": True,\n",
    "    \"exchange_total\": False,\n",
    "    \"gas\": True,\n",
    "    \"rate\": False,\n",
    "    \"soil_ph\": True,\n",
    "    \"solid\": True,\n",
    "    \"solid_sp_saturation\": True, \n",
    "    \"solid_volumePercent\": True,\n",
    "    \"solid_weightPercent\": True,\n",
    "    \"specific_surface_area\": True,\n",
    "    \"surface_area\": False,\n",
    "}"
   ]
  },
  {
   "cell_type": "markdown",
   "metadata": {},
   "source": [
    "### denote which dimensions to include in batch processing"
   ]
  },
  {
   "cell_type": "code",
   "execution_count": 4,
   "metadata": {},
   "outputs": [],
   "source": [
    "batch_axes = [\"dustrad\", \"dustrate_ton_ha_yr\"]"
   ]
  },
  {
   "cell_type": "markdown",
   "metadata": {},
   "source": [
    "## read in the batch csv files"
   ]
  },
  {
   "cell_type": "code",
   "execution_count": 5,
   "metadata": {},
   "outputs": [],
   "source": [
    "# set up the batch file info\n",
    "# \n",
    "# --- \n",
    "runtype = \"field\"   # field or lab\n",
    "fertlevel = \"hi\"   # \"no\", \"low\", \"mid\", or \"hi\"\n",
    "dustsp = \"gbas\"     # \"gbas\", \"wls\" (silicate species)\n",
    "sitename = \"311a\"   # \"311a\" or \"311b\"\n",
    "multiyear_sil = False    # whether we are looking for multi-year composites for silicate case\n",
    "multiyear_cc = False   # whether we are looking for multi-year composites for cc case\n",
    "\n",
    "tag_sil = \"AWS-TEST1\"  # an extra tag in the casenames, something like \"wet\" (use \"\" for none)\n",
    "tag_cc = \"AWS-TEST1\"   # an extra tag in the casenames, something like \"wet\" (use \"\" for none)\n",
    "\n",
    "version_sil_csv = \"v0\"   # version appended to the csv file for the batch input\n",
    "version_cc_csv = \"v0\"\n",
    "\n",
    "# --- SAVE DETAILS -----------------------------------------------------------------------------------------\n",
    "save_results = True\n",
    "if multiyear_sil or multiyear_cc:\n",
    "    savedir_pref = f\"meanAnn_shortRun_{fertlevel}Fert_{tag_sil}_multiyear\"   # prefix for the save directory (which will be created upon save)\n",
    "else:\n",
    "    savedir_pref = f\"meanAnn_shortRun_{fertlevel}Fert_{tag_sil}\"   # prefix for the save directory (which will be created upon save)\n",
    "\n",
    "savepath = \"/home/tykukla/aglime-swap-cdr/scepter/process/runs/batch_postprocResults/cc-sil_psize_apprate\"\n",
    "# ----------------------------------------------------------------------------------------------------------\n",
    "\n",
    "\n",
    "# [SILICATE RUNS]\n",
    "if multiyear_sil:\n",
    "    runname_ctrl_sil = [f\"{fertlevel}Fert_{dustsp}_multiyear_site_{sitename}_app_0p0_psize_*_composite_{runtype}\"]\n",
    "    csv_fn_sil = f\"meanAnn_{dustsp}_shortRun_multiyear_{fertlevel}Fert_gs+apprate_{version_sil_csv}.csv\"\n",
    "else:\n",
    "    runname_ctrl_sil = [f\"{fertlevel}Fert_{dustsp}_{tag_sil}_site_{sitename}_app_0p0_psize_*_{dustsp}_{runtype}_tau15p0\"]\n",
    "    csv_fn_sil = f\"meanAnn_{dustsp}_shortRun_{tag_sil}_{fertlevel}Fert_gs+apprate_{version_sil_csv}.csv\"\n",
    "\n",
    "# [CALCITE RUNS]\n",
    "if multiyear_cc: \n",
    "    runname_ctrl_cc = [f\"{fertlevel}Fert_cc_multiyear_site_{sitename}_app_0p0_psize_*_composite_{runtype}\"]\n",
    "    csv_fn_cc = f\"meanAnn_cc_shortRun_multiyear_{fertlevel}Fert_gs+apprate_{version_cc_csv}.csv\"\n",
    "else:\n",
    "    runname_ctrl_cc = [f\"{fertlevel}Fert_cc_{tag_cc}_site_{sitename}_app_0p0_psize_*_cc_{runtype}_tau15p0\"]\n",
    "    csv_fn_cc = f\"meanAnn_cc_shortRun_{tag_cc}_{fertlevel}Fert_gs+apprate_{version_cc_csv}.csv\"\n",
    "\n",
    "# ---\n",
    "# groundwork\n",
    "# outdir = \"/home/tykukla/SCEPTER/scepter_output\"\n",
    "outdir = \"s3://carbonplan-carbon-removal/SCEPTER/scepter_output_scratch/\"\n",
    "csv_loc = \"/home/tykukla/aglime-swap-cdr/scepter/batch-inputs\""
   ]
  },
  {
   "cell_type": "code",
   "execution_count": 6,
   "metadata": {},
   "outputs": [],
   "source": [
    "# --- read in the batch .csv \n",
    "dfin_cc = pd.read_csv(os.path.join(csv_loc, csv_fn_cc))\n",
    "dfin_sil = pd.read_csv(os.path.join(csv_loc, csv_fn_sil))\n",
    "\n",
    "# [CALCITE]\n",
    "# add column for the full run id\n",
    "if multiyear_cc:\n",
    "    dfin_cc[\"newrun_id_full\"] = dfin_cc['newrun_id'] + f\"_composite_{runtype}\"\n",
    "else:\n",
    "    dfin_cc[\"newrun_id_full\"] = dfin_cc['newrun_id'] + \"_\" + dfin_cc['dustsp'] + \"_\" + runtype + \"_tau\"+dfin_cc[\"duration\"].astype(float).astype(str).str.replace(\".\", \"p\")  # (duration has to be turned into float first because otherwise we miss the decimal pt)\n",
    "# identify the control run\n",
    "dfin_cc[\"ctrl_run\"] = dfin_cc['newrun_id_full'].apply(lambda filename: any(fnmatch.fnmatch(filename, pattern) for pattern in runname_ctrl_cc))\n",
    "# eliminate other sites if necessary\n",
    "if len(dfin_cc['site'].unique()) > 1:\n",
    "    dfin_cc = dfin_cc[dfin_cc['site'] == f\"site_{sitename}\"].copy()\n",
    "# add a column for the dustrate in ton_ha_yr\n",
    "if \"dustrate\" in dfin_cc.columns:\n",
    "    dfin_cc[\"dustrate_ton_ha_yr\"] = dfin_cc[\"dustrate\"] / 100 \n",
    "    \n",
    "# [SILICATE]\n",
    "# add column for the full run id\n",
    "if multiyear_sil:\n",
    "    dfin_sil[\"newrun_id_full\"] = dfin_sil['newrun_id'] + f\"_composite_{runtype}\"\n",
    "else:\n",
    "    dfin_sil[\"newrun_id_full\"] = dfin_sil['newrun_id'] + \"_\" + dfin_sil['dustsp'] + \"_\" + runtype + \"_tau\"+dfin_sil[\"duration\"].astype(float).astype(str).str.replace(\".\", \"p\")  # (duration has to be turned into float first because otherwise we miss the decimal pt)\n",
    "# identify the control run\n",
    "dfin_sil[\"ctrl_run\"] = dfin_sil['newrun_id_full'].apply(lambda filename: any(fnmatch.fnmatch(filename, pattern) for pattern in runname_ctrl_sil))\n",
    "# eliminate other sites if necessary\n",
    "if len(dfin_sil['site'].unique()) > 1:\n",
    "    dfin_sil = dfin_sil[dfin_sil['site'] == f\"site_{sitename}\"].copy()\n",
    "# add a column for the dustrate in ton_ha_yr\n",
    "if \"dustrate\" in dfin_sil.columns:\n",
    "    dfin_sil[\"dustrate_ton_ha_yr\"] = dfin_sil[\"dustrate\"] / 100 \n"
   ]
  },
  {
   "cell_type": "code",
   "execution_count": 7,
   "metadata": {},
   "outputs": [],
   "source": [
    "# # --- OPTIONAL: Filter out part of CSV\n",
    "\n",
    "# # [1] by climatefile name (corresponds with site name)\n",
    "# site = \"site_311a\"\n",
    "# dfin_cc = dfin_cc[dfin_cc['climatefiles'] == 'site_311a']\n",
    "# dfin_sil = dfin_sil[dfin_sil['climatefiles'] == 'site_311a']\n",
    "\n",
    "# # [2] ... TK"
   ]
  },
  {
   "cell_type": "markdown",
   "metadata": {},
   "source": [
    "### check that the batch csv inputs look right"
   ]
  },
  {
   "cell_type": "code",
   "execution_count": 8,
   "metadata": {},
   "outputs": [],
   "source": [
    "# dfin_cc"
   ]
  },
  {
   "cell_type": "code",
   "execution_count": 9,
   "metadata": {},
   "outputs": [],
   "source": [
    "# dfin_sil"
   ]
  },
  {
   "cell_type": "markdown",
   "metadata": {},
   "source": [
    "## compile all the data\n",
    "This returns a dictionary where each key is one of the filenames in proc_dict, and each value is the batch-merged dataset for that key."
   ]
  },
  {
   "cell_type": "code",
   "execution_count": 10,
   "metadata": {},
   "outputs": [
    {
     "name": "stdout",
     "output_type": "stream",
     "text": [
      "adsorbed\n",
      "adsorbed_percCEC\n",
      "adsorbed_ppm\n",
      "aqueous\n",
      "aqueous_total\n",
      "bulksoil\n",
      "exchange_total\n",
      "gas\n",
      "rate\n",
      "soil_ph\n",
      "solid\n",
      "solid_sp_saturation\n",
      "solid_volumePercent\n",
      "solid_weightPercent\n",
      "specific_surface_area\n",
      "surface_area\n"
     ]
    }
   ],
   "source": [
    "# --- first for calcite \n",
    "dsdict_cc = cfp.prof_batchprocess_allvars(\n",
    "    outdir, \n",
    "    dustsp='cc', \n",
    "    dfin=dfin_cc,\n",
    "    batch_axes = batch_axes,\n",
    "    proc_dict = proc_dict\n",
    "    )"
   ]
  },
  {
   "cell_type": "code",
   "execution_count": 11,
   "metadata": {},
   "outputs": [
    {
     "name": "stdout",
     "output_type": "stream",
     "text": [
      "adsorbed\n",
      "adsorbed_percCEC\n",
      "adsorbed_ppm\n",
      "aqueous\n",
      "aqueous_total\n",
      "bulksoil\n",
      "exchange_total\n",
      "gas\n",
      "rate\n",
      "soil_ph\n",
      "solid\n",
      "solid_sp_saturation\n",
      "solid_volumePercent\n",
      "solid_weightPercent\n",
      "specific_surface_area\n",
      "surface_area\n"
     ]
    }
   ],
   "source": [
    "# --- repeat for silicate \n",
    "# --- first for calcite \n",
    "dsdict_sil = cfp.prof_batchprocess_allvars(\n",
    "    outdir, \n",
    "    dustsp='gbas', \n",
    "    dfin=dfin_sil,\n",
    "    batch_axes = batch_axes,\n",
    "    proc_dict = proc_dict\n",
    "    )"
   ]
  },
  {
   "cell_type": "markdown",
   "metadata": {},
   "source": [
    "## save the results"
   ]
  },
  {
   "cell_type": "code",
   "execution_count": 12,
   "metadata": {},
   "outputs": [
    {
     "name": "stdout",
     "output_type": "stream",
     "text": [
      "Directory created: /home/tykukla/aglime-swap-cdr/scepter/process/runs/batch_postprocResults/cc-sil_psize_apprate/meanAnn_shortRun_hiFert_AWS-TEST1_004\n"
     ]
    }
   ],
   "source": [
    "# --- calcite\n",
    "# note we generate the save directory here, then apply it in the next cell (!!)\n",
    "dustsp = 'cc'\n",
    "saved_here = cfp.save_batch_postproc_profOnly(\n",
    "    dsdict = dsdict_cc,\n",
    "    filename_suffix = f\"_{dustsp}_batch\",\n",
    "    save_directory = None,\n",
    "    base_path = savepath,\n",
    "    base_dir_name = savedir_pref,\n",
    ")"
   ]
  },
  {
   "cell_type": "code",
   "execution_count": 15,
   "metadata": {},
   "outputs": [],
   "source": [
    "dustsp = 'gbas'\n",
    "_ = cfp.save_batch_postproc_profOnly(\n",
    "    dsdict = dsdict_cc,\n",
    "    filename_suffix = f\"_{dustsp}_batch\",\n",
    "    save_directory = saved_here,\n",
    "    base_path = None,\n",
    "    base_dir_name = None,\n",
    ")"
   ]
  },
  {
   "cell_type": "code",
   "execution_count": null,
   "metadata": {},
   "outputs": [],
   "source": [
    "# -------------------------"
   ]
  }
 ],
 "metadata": {
  "kernelspec": {
   "display_name": "cdr-scepter_postproc",
   "language": "python",
   "name": "python3"
  },
  "language_info": {
   "codemirror_mode": {
    "name": "ipython",
    "version": 3
   },
   "file_extension": ".py",
   "mimetype": "text/x-python",
   "name": "python",
   "nbconvert_exporter": "python",
   "pygments_lexer": "ipython3",
   "version": "3.13.0"
  }
 },
 "nbformat": 4,
 "nbformat_minor": 2
}
